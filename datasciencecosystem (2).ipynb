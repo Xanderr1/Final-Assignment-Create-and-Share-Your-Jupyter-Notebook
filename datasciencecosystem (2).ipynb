{
 "cells": [
  {
   "cell_type": "markdown",
   "id": "d5a6bd16-eca6-499e-9ac8-7bbf693e144a",
   "metadata": {
    "tags": []
   },
   "source": [
    "# Data Science Tools and Ecosystem\n"
   ]
  },
  {
   "cell_type": "markdown",
   "id": "9119cfba-87a1-40d7-91db-9392784d976f",
   "metadata": {},
   "source": [
    "In this notebook, Data Science Tools and Ecosystem are summarized."
   ]
  },
  {
   "cell_type": "markdown",
   "id": "ef29ca7d-9389-4574-85fb-2c9dda7acf81",
   "metadata": {
    "tags": []
   },
   "source": [
    "Some of the popular languages that Data Scientists use are:\n",
    "1. Python\n",
    "2. R\n",
    "3. SQL\n",
    "4. Java\n",
    "5. Julia"
   ]
  },
  {
   "cell_type": "markdown",
   "id": "fc6d75f3-ea5f-4e5d-8166-f82a077c76b6",
   "metadata": {
    "tags": []
   },
   "source": [
    "Some of the commonly used libraries by Data Scientists include:\n",
    "1. Pandas (for data manipulation and analysis)\n",
    "2. NumPy (for numerical operations)\n",
    "3. Scikit-learn (for machine learning)\n",
    "4. Matplotlib (for plotting and visualization)\n",
    "5. TensorFlow (for deep learning)"
   ]
  },
  {
   "cell_type": "markdown",
   "id": "1e1a2350-795f-4494-804e-e40575c6c610",
   "metadata": {},
   "source": [
    "| Data Science Tools  |\n",
    "|---------------------|\n",
    "| Jupyter Notebook    |\n",
    "| RStudio             |\n",
    "| Apache Zeppelin     |\n"
   ]
  },
  {
   "cell_type": "markdown",
   "id": "99ee7327-e346-47ac-b3ef-706fb0314853",
   "metadata": {
    "tags": []
   },
   "source": [
    "### Below are a few examples of evaluating arithmetic expressions in Python."
   ]
  },
  {
   "cell_type": "code",
   "execution_count": 5,
   "id": "5a8b1a0a-d83d-4236-b917-bb62c1c48346",
   "metadata": {
    "tags": []
   },
   "outputs": [
    {
     "data": {
      "text/plain": [
       "17"
      ]
     },
     "execution_count": 5,
     "metadata": {},
     "output_type": "execute_result"
    }
   ],
   "source": [
    "# This is a simple arithmetic expression to multiply then add integers\n",
    "(3*4)+5\n"
   ]
  },
  {
   "cell_type": "code",
   "execution_count": 6,
   "id": "10e97324-15b9-4d22-b7ad-3d017b2d310f",
   "metadata": {
    "tags": []
   },
   "outputs": [
    {
     "data": {
      "text/plain": [
       "3.3333333333333335"
      ]
     },
     "execution_count": 6,
     "metadata": {},
     "output_type": "execute_result"
    }
   ],
   "source": [
    "# This will convert 200 minutes to hours by dividing by 60\n",
    "200 / 60\n"
   ]
  },
  {
   "cell_type": "code",
   "execution_count": null,
   "id": "178074ca-1c17-4df7-b97b-ab09e7d1f6cc",
   "metadata": {
    "tags": []
   },
   "outputs": [],
   "source": [
    "**Objectives:**\n",
    "- List popular languages for Data Science, such as Python, R, and SQL.\n",
    "- Describe commonly used libraries in Data Science like Pandas, NumPy, and Scikit-learn.\n",
    "- Outline key Data Science tools including Jupyter Notebook, RStudio, and Apache Zeppelin.\n",
    "- Provide examples of basic arithmetic operations in Python.\n",
    "- Convert units, such as minutes to hours, using Python.\n"
   ]
  },
  {
   "cell_type": "markdown",
   "id": "a93257ce-d56a-4290-84ea-e720a4c04361",
   "metadata": {},
   "source": [
    "## Author\n",
    "Alexander Ambrosio"
   ]
  }
 ],
 "metadata": {
  "kernelspec": {
   "display_name": "Python",
   "language": "python",
   "name": "conda-env-python-py"
  },
  "language_info": {
   "codemirror_mode": {
    "name": "ipython",
    "version": 3
   },
   "file_extension": ".py",
   "mimetype": "text/x-python",
   "name": "python",
   "nbconvert_exporter": "python",
   "pygments_lexer": "ipython3",
   "version": "3.7.12"
  }
 },
 "nbformat": 4,
 "nbformat_minor": 5
}
